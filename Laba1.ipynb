{
 "cells": [
  {
   "cell_type": "code",
   "execution_count": 78,
   "id": "a4ec6694-c27f-4898-a4a8-4814048f64ab",
   "metadata": {},
   "outputs": [],
   "source": [
    "import pandas as pd\n",
    "import numpy as np\n",
    "import matplotlib as plt\n",
    "import seaborn as sns"
   ]
  },
  {
   "cell_type": "code",
   "execution_count": 83,
   "id": "bfbf1100-ff56-47a3-bd28-0c543c81ccda",
   "metadata": {},
   "outputs": [
    {
     "name": "stdout",
     "output_type": "stream",
     "text": [
      "   PassengerId  Survived  Pclass                                                 Name     Sex   Age  SibSp  Parch            Ticket     Fare Cabin Embarked\n",
      "0            1         0       3                              Braund, Mr. Owen Harris    male  22.0      1      0         A/5 21171   7.2500   NaN        S\n",
      "1            2         1       1  Cumings, Mrs. John Bradley (Florence Briggs Thayer)  female  38.0      1      0          PC 17599  71.2833   C85        C\n",
      "2            3         1       3                               Heikkinen, Miss. Laina  female  26.0      0      0  STON/O2. 3101282   7.9250   NaN        S\n",
      "3            4         1       1         Futrelle, Mrs. Jacques Heath (Lily May Peel)  female  35.0      1      0            113803  53.1000  C123        S\n",
      "4            5         0       3                             Allen, Mr. William Henry    male  35.0      0      0            373450   8.0500   NaN        S\n",
      "5            6         0       3                                     Moran, Mr. James    male   NaN      0      0            330877   8.4583   NaN        Q\n",
      "6            7         0       1                              McCarthy, Mr. Timothy J    male  54.0      0      0             17463  51.8625   E46        S\n",
      "7            8         0       3                       Palsson, Master. Gosta Leonard    male   2.0      3      1            349909  21.0750   NaN        S\n",
      "8            9         1       3    Johnson, Mrs. Oscar W (Elisabeth Vilhelmina Berg)  female  27.0      0      2            347742  11.1333   NaN        S\n",
      "9           10         1       2                  Nasser, Mrs. Nicholas (Adele Achem)  female  14.0      1      0            237736  30.0708   NaN        C\n",
      "--------------------------------------------------------------------------------------------------------------------------\n",
      "        Sex   Age Embarked\n",
      "0      male  22.0        S\n",
      "1    female  38.0        C\n",
      "2    female  26.0        S\n",
      "3    female  35.0        S\n",
      "4      male  35.0        S\n",
      "..      ...   ...      ...\n",
      "886    male  27.0        S\n",
      "887  female  19.0        S\n",
      "888  female   NaN        S\n",
      "889    male  26.0        C\n",
      "890    male  32.0        Q\n",
      "\n",
      "[891 rows x 3 columns]\n"
     ]
    }
   ],
   "source": [
    "data = pd.read_csv('train.csv' ,  sep=';', encoding='1251')\n",
    "with pd.option_context(\n",
    "    'display.max_colwidth', 100,\n",
    "    'expand_frame_repr', False,\n",
    "    'display.max_columns', 12\n",
    "):\n",
    "    print(data.head(10))\n",
    "data.pop('Name')\n",
    "data.pop('PassengerId')\n",
    "data.pop('Survived')\n",
    "data.pop('Pclass')\n",
    "data.pop('SibSp')\n",
    "data.pop('Parch')\n",
    "data.pop('Ticket')\n",
    "data.pop('Fare')\n",
    "data.pop('Cabin')\n",
    "print('--------------------------------------------------------------------------------------------------------------------------')\n",
    "print(data)"
   ]
  },
  {
   "cell_type": "code",
   "execution_count": 84,
   "id": "8e99e2b3-b28b-418c-b4f9-e7d73ab6c649",
   "metadata": {},
   "outputs": [
    {
     "data": {
      "text/plain": [
       "28.0"
      ]
     },
     "execution_count": 84,
     "metadata": {},
     "output_type": "execute_result"
    }
   ],
   "source": [
    "data['Age']. median()"
   ]
  },
  {
   "cell_type": "code",
   "execution_count": 93,
   "id": "f4f5e72e-c166-4d89-a7a4-79487b124c82",
   "metadata": {},
   "outputs": [
    {
     "name": "stdout",
     "output_type": "stream",
     "text": [
      "        Sex   Age Embarked\n",
      "0      male  22.0        S\n",
      "1    female  38.0        C\n",
      "2    female  26.0        S\n",
      "3    female  35.0        S\n",
      "4      male  35.0        S\n",
      "..      ...   ...      ...\n",
      "886    male  27.0        S\n",
      "887  female  19.0        S\n",
      "888  female  28.0        S\n",
      "889    male  26.0        C\n",
      "890    male  32.0        Q\n",
      "\n",
      "[891 rows x 3 columns]\n"
     ]
    }
   ],
   "source": [
    "data[['Age']]=data[['Age']].fillna(value=28)\n",
    "with pd.option_context(\n",
    "    'display.max_colwidth', 100,\n",
    "    'expand_frame_repr', False,\n",
    "    'display.max_rows', 20\n",
    "):\n",
    "    print(data)"
   ]
  },
  {
   "cell_type": "code",
   "execution_count": 101,
   "id": "ab3e87f8-631f-496b-9310-b6375b8a73c8",
   "metadata": {},
   "outputs": [
    {
     "name": "stdout",
     "output_type": "stream",
     "text": [
      "      Sex  Sex_code\n",
      "0    male         1\n",
      "1  female         0\n"
     ]
    }
   ],
   "source": [
    "df=pd.DataFrame({'Sex':['male', 'female']})\n",
    "df['Sex']=df['Sex'].astype('category')\n",
    "df['Sex_code']=df['Sex'].cat.codes\n",
    "\n",
    "\n",
    "print(df)"
   ]
  },
  {
   "cell_type": "code",
   "execution_count": 105,
   "id": "bfd1f0c7-e257-41fc-9d97-992ae211157f",
   "metadata": {},
   "outputs": [
    {
     "name": "stdout",
     "output_type": "stream",
     "text": [
      "  Embarked  Embarked_code\n",
      "0        S              2\n",
      "1        C              0\n",
      "2        Q              1\n"
     ]
    }
   ],
   "source": [
    "ds=pd.DataFrame({'Embarked':['S', 'C', 'Q']})\n",
    "ds['Embarked']=ds['Embarked'].astype('category')\n",
    "ds['Embarked_code']=ds['Embarked'].cat.codes\n",
    "print(ds)"
   ]
  }
 ],
 "metadata": {
  "kernelspec": {
   "display_name": "Python 3 (ipykernel)",
   "language": "python",
   "name": "python3"
  },
  "language_info": {
   "codemirror_mode": {
    "name": "ipython",
    "version": 3
   },
   "file_extension": ".py",
   "mimetype": "text/x-python",
   "name": "python",
   "nbconvert_exporter": "python",
   "pygments_lexer": "ipython3",
   "version": "3.11.7"
  },
  "toc": {
   "base_numbering": 0
  }
 },
 "nbformat": 4,
 "nbformat_minor": 5
}
